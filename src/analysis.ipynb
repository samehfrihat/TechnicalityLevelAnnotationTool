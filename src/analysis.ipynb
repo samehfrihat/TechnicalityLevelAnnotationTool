{
 "cells": [
  {
   "cell_type": "code",
   "execution_count": 33,
   "metadata": {},
   "outputs": [],
   "source": [
    "import numpy as np\n",
    "import os\n",
    "import re\n",
    "import pandas as pd\n",
    "import matplotlib.pyplot as plt\n",
    "from scipy import stats\n",
    "from Bio import Entrez\n",
    "\n",
    "DATA_PATH = \"./data/\""
   ]
  },
  {
   "cell_type": "code",
   "execution_count": 34,
   "metadata": {},
   "outputs": [],
   "source": [
    "def to_csv(filename:str, dataframe:pd.DataFrame):\n",
    "    dataframe.to_csv(os.path.join(DATA_PATH, filename+\".csv\"), encoding=\"utf-8\", sep=\",\", index=False)\n",
    "    print(f\"DataFrame successfully saved in {filename}\")\n",
    "def read_csv(filename:str):\n",
    "    _df = pd.read_csv(os.path.join(DATA_PATH, filename+\".csv\"), encoding=\"utf-8\", sep=\",\")\n",
    "    print(_df.columns)\n",
    "    print(f\"Dataset shape {_df.shape}\")\n",
    "    return _df\n",
    "def words_count(text):\n",
    "    text = re.sub(r'\\s+', ' ', text)\n",
    "    return len(text.split())\n",
    "def chars_count(text):\n",
    "    text = re.sub(r'\\s+', ' ', text)\n",
    "    return len(text)\n",
    "def get_pubmed_document(pmid):\n",
    "    Entrez.email = \"your_email@example.com\"  # Set your email address for PubMed access\n",
    "\n",
    "    try:\n",
    "        # Fetch the article summary using PubMed ID\n",
    "        handle = Entrez.efetch(db=\"pubmed\", id=str(pmid), retmode=\"xml\")\n",
    "        record = Entrez.read(handle)\n",
    "        handle.close()\n",
    "        \n",
    "        return record\n",
    "    except Exception as e:\n",
    "        print(f\"Error: {e}\")\n",
    "        return None"
   ]
  },
  {
   "cell_type": "code",
   "execution_count": 35,
   "metadata": {},
   "outputs": [],
   "source": [
    "########\n",
    "#Write you script to get the articles abstracts, title, authors using the PubMed IDs provided in the AnnotationOnly.csv .....#\n",
    "# or contact Sameh.Frihat@uni-due.de for ready CSV file.\n",
    "########"
   ]
  },
  {
   "cell_type": "code",
   "execution_count": 36,
   "metadata": {},
   "outputs": [
    {
     "name": "stdout",
     "output_type": "stream",
     "text": [
      "Index(['tittle', 'topics', 'ENreadability', 'DEreadability', 'ENtechnicality',\n",
      "       'DEtechnicality', 'user', 'ID', 'authors', 'institutes', 'date',\n",
      "       'topic', 'english_abstract', 'german_abstract', 'collaborators',\n",
      "       'readingTimeList', 'readingTime'],\n",
      "      dtype='object')\n",
      "Dataset shape (209, 17)\n"
     ]
    },
    {
     "data": {
      "text/html": [
       "<div>\n",
       "<style scoped>\n",
       "    .dataframe tbody tr th:only-of-type {\n",
       "        vertical-align: middle;\n",
       "    }\n",
       "\n",
       "    .dataframe tbody tr th {\n",
       "        vertical-align: top;\n",
       "    }\n",
       "\n",
       "    .dataframe thead th {\n",
       "        text-align: right;\n",
       "    }\n",
       "</style>\n",
       "<table border=\"1\" class=\"dataframe\">\n",
       "  <thead>\n",
       "    <tr style=\"text-align: right;\">\n",
       "      <th></th>\n",
       "      <th>tittle</th>\n",
       "      <th>topics</th>\n",
       "      <th>ENreadability</th>\n",
       "      <th>DEreadability</th>\n",
       "      <th>ENtechnicality</th>\n",
       "      <th>DEtechnicality</th>\n",
       "      <th>user</th>\n",
       "      <th>ID</th>\n",
       "      <th>authors</th>\n",
       "      <th>institutes</th>\n",
       "      <th>date</th>\n",
       "      <th>topic</th>\n",
       "      <th>english_abstract</th>\n",
       "      <th>german_abstract</th>\n",
       "      <th>collaborators</th>\n",
       "      <th>readingTimeList</th>\n",
       "      <th>readingTime</th>\n",
       "    </tr>\n",
       "  </thead>\n",
       "  <tbody>\n",
       "    <tr>\n",
       "      <th>0</th>\n",
       "      <td>[Pre travel advice - a study among Swiss gener...</td>\n",
       "      <td>['Public Health']</td>\n",
       "      <td>10</td>\n",
       "      <td>8</td>\n",
       "      <td>8</td>\n",
       "      <td>6</td>\n",
       "      <td>334</td>\n",
       "      <td>23732446</td>\n",
       "      <td>[{'name': 'Walz A', 'institutes': ['1']}, {'na...</td>\n",
       "      <td>{'1': 'Institut für Sozial- und Präventivmediz...</td>\n",
       "      <td>('2013', 'Jun', '')</td>\n",
       "      <td>Ther Umsch</td>\n",
       "      <td>\\tUp to 65 % of travellers seek pre-travel adv...</td>\n",
       "      <td>\\tPublisher: Bis zu 65 % der Reisenden suchen ...</td>\n",
       "      <td>NaN</td>\n",
       "      <td>[178, 185, 145]</td>\n",
       "      <td>169</td>\n",
       "    </tr>\n",
       "    <tr>\n",
       "      <th>1</th>\n",
       "      <td>[Important classifications and scores in cardi...</td>\n",
       "      <td>['Cardiology']</td>\n",
       "      <td>15</td>\n",
       "      <td>17</td>\n",
       "      <td>7</td>\n",
       "      <td>3</td>\n",
       "      <td>954</td>\n",
       "      <td>24091338</td>\n",
       "      <td>[{'name': 'Bonetti PO', 'institutes': ['1']}]</td>\n",
       "      <td>{'1': 'Abteilung für Kardiologie, Departement ...</td>\n",
       "      <td>('2013', 'Oct', '')</td>\n",
       "      <td>Ther Umsch</td>\n",
       "      <td>\\tClassifications and scores play a fundamenta...</td>\n",
       "      <td>\\tPublisher: In der Kardiologie werden diverse...</td>\n",
       "      <td>NaN</td>\n",
       "      <td>[214, 319, 228]</td>\n",
       "      <td>254</td>\n",
       "    </tr>\n",
       "    <tr>\n",
       "      <th>2</th>\n",
       "      <td>[Health Promotion and Disease Prevention - Res...</td>\n",
       "      <td>['Public Health']</td>\n",
       "      <td>14</td>\n",
       "      <td>13</td>\n",
       "      <td>10</td>\n",
       "      <td>0</td>\n",
       "      <td>618</td>\n",
       "      <td>29069690</td>\n",
       "      <td>[{'name': 'Thaiss H', 'institutes': ['1']}, {'...</td>\n",
       "      <td>{'1': 'Bundeszentrale für gesundheitliche Aufk...</td>\n",
       "      <td>('2017', 'Oct', '25')</td>\n",
       "      <td>Gesundheitswesen</td>\n",
       "      <td>\\tThe increase in so-called lifestyle-related ...</td>\n",
       "      <td>\\tPublisher: Der Anstieg der sogenannten Zivil...</td>\n",
       "      <td>NaN</td>\n",
       "      <td>[106, 104, 90]</td>\n",
       "      <td>100</td>\n",
       "    </tr>\n",
       "    <tr>\n",
       "      <th>3</th>\n",
       "      <td>[Screening of executive functions in patients ...</td>\n",
       "      <td>['Neurology', 'Urology']</td>\n",
       "      <td>13</td>\n",
       "      <td>13</td>\n",
       "      <td>6</td>\n",
       "      <td>4</td>\n",
       "      <td>645</td>\n",
       "      <td>29186725</td>\n",
       "      <td>[{'name': 'Scheffels JF', 'institutes': ['1']}...</td>\n",
       "      <td>{'1': 'Universitätsklinikum Köln, Neurologie.'...</td>\n",
       "      <td>('2017', 'Nov', '29')</td>\n",
       "      <td>Fortschr Neurol Psychiatr</td>\n",
       "      <td>\\tParkinson's disease (PD) is the second most ...</td>\n",
       "      <td>\\tPublisher: Morbus Parkinson ist nach der Dem...</td>\n",
       "      <td>NaN</td>\n",
       "      <td>[356, 367, 303]</td>\n",
       "      <td>342</td>\n",
       "    </tr>\n",
       "    <tr>\n",
       "      <th>4</th>\n",
       "      <td>[Sociology as a Major Factor for the Psychiatr...</td>\n",
       "      <td>['Psychiatry']</td>\n",
       "      <td>18</td>\n",
       "      <td>18</td>\n",
       "      <td>4</td>\n",
       "      <td>9</td>\n",
       "      <td>10</td>\n",
       "      <td>29237198</td>\n",
       "      <td>[{'name': 'Söhner F', 'institutes': ['1', '2']...</td>\n",
       "      <td>{'1': 'Institut für Geschichte, Theorie und Et...</td>\n",
       "      <td>('2017', 'Dec', '13')</td>\n",
       "      <td>Psychiatr Prax</td>\n",
       "      <td>\\tOBJECTIVE: This paper examines the influence...</td>\n",
       "      <td>\\tPublisher: ANLIEGEN: Untersuchung des Einflu...</td>\n",
       "      <td>NaN</td>\n",
       "      <td>[150, 162, 130]</td>\n",
       "      <td>147</td>\n",
       "    </tr>\n",
       "  </tbody>\n",
       "</table>\n",
       "</div>"
      ],
      "text/plain": [
       "                                              tittle  \\\n",
       "0  [Pre travel advice - a study among Swiss gener...   \n",
       "1  [Important classifications and scores in cardi...   \n",
       "2  [Health Promotion and Disease Prevention - Res...   \n",
       "3  [Screening of executive functions in patients ...   \n",
       "4  [Sociology as a Major Factor for the Psychiatr...   \n",
       "\n",
       "                     topics  ENreadability  DEreadability  ENtechnicality  \\\n",
       "0         ['Public Health']             10              8               8   \n",
       "1            ['Cardiology']             15             17               7   \n",
       "2         ['Public Health']             14             13              10   \n",
       "3  ['Neurology', 'Urology']             13             13               6   \n",
       "4            ['Psychiatry']             18             18               4   \n",
       "\n",
       "   DEtechnicality  user        ID  \\\n",
       "0               6   334  23732446   \n",
       "1               3   954  24091338   \n",
       "2               0   618  29069690   \n",
       "3               4   645  29186725   \n",
       "4               9    10  29237198   \n",
       "\n",
       "                                             authors  \\\n",
       "0  [{'name': 'Walz A', 'institutes': ['1']}, {'na...   \n",
       "1      [{'name': 'Bonetti PO', 'institutes': ['1']}]   \n",
       "2  [{'name': 'Thaiss H', 'institutes': ['1']}, {'...   \n",
       "3  [{'name': 'Scheffels JF', 'institutes': ['1']}...   \n",
       "4  [{'name': 'Söhner F', 'institutes': ['1', '2']...   \n",
       "\n",
       "                                          institutes                   date  \\\n",
       "0  {'1': 'Institut für Sozial- und Präventivmediz...    ('2013', 'Jun', '')   \n",
       "1  {'1': 'Abteilung für Kardiologie, Departement ...    ('2013', 'Oct', '')   \n",
       "2  {'1': 'Bundeszentrale für gesundheitliche Aufk...  ('2017', 'Oct', '25')   \n",
       "3  {'1': 'Universitätsklinikum Köln, Neurologie.'...  ('2017', 'Nov', '29')   \n",
       "4  {'1': 'Institut für Geschichte, Theorie und Et...  ('2017', 'Dec', '13')   \n",
       "\n",
       "                       topic  \\\n",
       "0                 Ther Umsch   \n",
       "1                 Ther Umsch   \n",
       "2           Gesundheitswesen   \n",
       "3  Fortschr Neurol Psychiatr   \n",
       "4             Psychiatr Prax   \n",
       "\n",
       "                                    english_abstract  \\\n",
       "0  \\tUp to 65 % of travellers seek pre-travel adv...   \n",
       "1  \\tClassifications and scores play a fundamenta...   \n",
       "2  \\tThe increase in so-called lifestyle-related ...   \n",
       "3  \\tParkinson's disease (PD) is the second most ...   \n",
       "4  \\tOBJECTIVE: This paper examines the influence...   \n",
       "\n",
       "                                     german_abstract  collaborators  \\\n",
       "0  \\tPublisher: Bis zu 65 % der Reisenden suchen ...            NaN   \n",
       "1  \\tPublisher: In der Kardiologie werden diverse...            NaN   \n",
       "2  \\tPublisher: Der Anstieg der sogenannten Zivil...            NaN   \n",
       "3  \\tPublisher: Morbus Parkinson ist nach der Dem...            NaN   \n",
       "4  \\tPublisher: ANLIEGEN: Untersuchung des Einflu...            NaN   \n",
       "\n",
       "   readingTimeList  readingTime  \n",
       "0  [178, 185, 145]          169  \n",
       "1  [214, 319, 228]          254  \n",
       "2   [106, 104, 90]          100  \n",
       "3  [356, 367, 303]          342  \n",
       "4  [150, 162, 130]          147  "
      ]
     },
     "execution_count": 36,
     "metadata": {},
     "output_type": "execute_result"
    }
   ],
   "source": [
    "df = read_csv(\"annotations\")\n",
    "df.head()"
   ]
  },
  {
   "cell_type": "code",
   "execution_count": 37,
   "metadata": {},
   "outputs": [
    {
     "name": "stdout",
     "output_type": "stream",
     "text": [
      "avg words in english abstracts: 215.44976076555025, std: 90.29299855960484\n",
      "avg chars in english abstracts: 1480.0813397129186, std: 585.322033392832\n"
     ]
    }
   ],
   "source": [
    "#average length of english abstracts? \n",
    "#words\n",
    "print(f\"avg words in english abstracts: {df['english_abstract'].apply(words_count).mean()}, std: {df['english_abstract'].apply(words_count).std()}\")\n",
    "#chars\n",
    "print(f\"avg chars in english abstracts: {df['english_abstract'].apply(chars_count).mean()}, std: {df['english_abstract'].apply(chars_count).std()}\")"
   ]
  },
  {
   "cell_type": "code",
   "execution_count": 38,
   "metadata": {},
   "outputs": [
    {
     "name": "stdout",
     "output_type": "stream",
     "text": [
      "avg words in german abstracts: 190.82296650717703, std: 77.63649424873877\n",
      "avg chars in german abstracts: 1587.3062200956938, std: 616.2667551237369\n"
     ]
    }
   ],
   "source": [
    "#average length of german abstracts? \n",
    "#words\n",
    "print(f\"avg words in german abstracts: {df['german_abstract'].apply(words_count).mean()}, std: {df['german_abstract'].apply(words_count).std()}\")\n",
    "#chars\n",
    "print(f\"avg chars in german abstracts: {df['german_abstract'].apply(chars_count).mean()}, std: {df['german_abstract'].apply(chars_count).std()}\")"
   ]
  },
  {
   "cell_type": "code",
   "execution_count": 39,
   "metadata": {},
   "outputs": [
    {
     "data": {
      "image/png": "[encoded data removed]",
      "text/plain": [
       "<Figure size 432x288 with 1 Axes>"
      ]
     },
     "metadata": {
      "needs_background": "light"
     },
     "output_type": "display_data"
    }
   ],
   "source": [
    "# word count\n",
    "df[\"EWC\"] = df[\"english_abstract\"].apply(words_count)\n",
    "df[\"GWC\"] = df[\"german_abstract\"].apply(words_count)\n",
    "boxplot = df[[\"EWC\", \"GWC\"]].boxplot()  "
   ]
  },
  {
   "cell_type": "code",
   "execution_count": 40,
   "metadata": {},
   "outputs": [
    {
     "data": {
      "image/png": "[encoded data removed]",
      "text/plain": [
       "<Figure size 432x288 with 1 Axes>"
      ]
     },
     "metadata": {
      "needs_background": "light"
     },
     "output_type": "display_data"
    }
   ],
   "source": [
    "# chars count\n",
    "df[\"ECC\"] = df[\"english_abstract\"].apply(chars_count)\n",
    "df[\"GCC\"] = df[\"german_abstract\"].apply(chars_count)\n",
    "boxplot = df[[\"ECC\", \"GCC\"]].boxplot()  "
   ]
  },
  {
   "cell_type": "code",
   "execution_count": 41,
   "metadata": {},
   "outputs": [
    {
     "data": {
      "image/png": "[encoded data removed]",
      "text/plain": [
       "<Figure size 432x288 with 1 Axes>"
      ]
     },
     "metadata": {
      "needs_background": "light"
     },
     "output_type": "display_data"
    },
    {
     "data": {
      "text/plain": [
       "count    209.000000\n",
       "mean     211.334928\n",
       "std       73.756700\n",
       "min       80.000000\n",
       "25%      147.000000\n",
       "50%      206.000000\n",
       "75%      259.000000\n",
       "max      464.000000\n",
       "Name: readingTime, dtype: float64"
      ]
     },
     "execution_count": 41,
     "metadata": {},
     "output_type": "execute_result"
    }
   ],
   "source": [
    "# reading time (english and german abstracts together).\n",
    "plt.boxplot(df[\"readingTime\"])\n",
    "#plt.title(\"Reading time in seconds\")\n",
    "plt.ylabel(\"time in seconds\")\n",
    "plt.xlabel(\"Reading\")\n",
    "plt.show()\n",
    "\n",
    "df[\"readingTime\"].describe()"
   ]
  },
  {
   "cell_type": "code",
   "execution_count": 42,
   "metadata": {},
   "outputs": [
    {
     "data": {
      "text/plain": [
       "count    209.000000\n",
       "mean     113.009600\n",
       "std       12.352174\n",
       "min       72.527473\n",
       "25%      106.764706\n",
       "50%      113.437500\n",
       "75%      121.794872\n",
       "max      146.086957\n",
       "dtype: float64"
      ]
     },
     "execution_count": 42,
     "metadata": {},
     "output_type": "execute_result"
    }
   ],
   "source": [
    "# Function to calculate WPM\n",
    "def calculate_wpm(row):\n",
    "    total_word_count = words_count(row['english_abstract']) + words_count(row['german_abstract'])\n",
    "    wpm = (total_word_count / row['readingTime'])*60\n",
    "    return wpm\n",
    "\n",
    "#words per minute (WPM)\n",
    "wpm = df[[\"english_abstract\",\"german_abstract\",\"readingTime\"]].apply(calculate_wpm, axis=1)\n",
    "\n",
    "wpm.describe()"
   ]
  },
  {
   "cell_type": "code",
   "execution_count": 43,
   "metadata": {},
   "outputs": [
    {
     "data": {
      "image/png": "[encoded data removed]",
      "text/plain": [
       "<Figure size 432x288 with 1 Axes>"
      ]
     },
     "metadata": {
      "needs_background": "light"
     },
     "output_type": "display_data"
    }
   ],
   "source": [
    "#words per minute (WPM)\n",
    "plt.boxplot(wpm)\n",
    "plt.ylabel(\"WPM\")\n",
    "plt.show()"
   ]
  },
  {
   "cell_type": "code",
   "execution_count": 44,
   "metadata": {},
   "outputs": [
    {
     "name": "stdout",
     "output_type": "stream",
     "text": [
      "The average ease of reading score for English: 64.21052631578948, std: 21.54989033102842\n",
      "The average ease of reading score for German: 61.50717703349282, std: 21.678401076706436\n"
     ]
    }
   ],
   "source": [
    "# Ease of Reading Analysis\n",
    "print(f\"The average ease of reading score for English: {(df['ENreadability']*5).mean()}, std: {(df['ENreadability']*5).std()}\")\n",
    "print(f\"The average ease of reading score for German: {(df['DEreadability']*5).mean()}, std: {(df['DEreadability']*5).std()}\")"
   ]
  },
  {
   "cell_type": "code",
   "execution_count": 29,
   "metadata": {},
   "outputs": [
    {
     "name": "stdout",
     "output_type": "stream",
     "text": [
      "The average Technicality score for English: 30.550239234449762, std: 10.026820400622418\n",
      "The average Technicality score for German: 26.72248803827751, std: 12.81898837703948\n"
     ]
    }
   ],
   "source": [
    "# Technicality Analysis\n",
    "print(f\"The average Technicality score for English: {(df['ENtechnicality']*5).mean()}, std: {(df['ENtechnicality']*5).std()}\")\n",
    "print(f\"The average Technicality score for German: {(df['DEtechnicality']*5).mean()}, std: {(df['DEtechnicality']*5).std()}\")"
   ]
  },
  {
   "cell_type": "code",
   "execution_count": 30,
   "metadata": {},
   "outputs": [
    {
     "name": "stdout",
     "output_type": "stream",
     "text": [
      "Technicality ...\n"
     ]
    },
    {
     "name": "stderr",
     "output_type": "stream",
     "text": [
      "<ipython-input-30-2719d85a39a8>:3: SettingWithCopyWarning: \n",
      "A value is trying to be set on a copy of a slice from a DataFrame.\n",
      "Try using .loc[row_indexer,col_indexer] = value instead\n",
      "\n",
      "See the caveats in the documentation: https://pandas.pydata.org/pandas-docs/stable/user_guide/indexing.html#returning-a-view-versus-a-copy\n",
      "  sub_df[\"ENtechnicality\"] *= 5\n",
      "<ipython-input-30-2719d85a39a8>:4: SettingWithCopyWarning: \n",
      "A value is trying to be set on a copy of a slice from a DataFrame.\n",
      "Try using .loc[row_indexer,col_indexer] = value instead\n",
      "\n",
      "See the caveats in the documentation: https://pandas.pydata.org/pandas-docs/stable/user_guide/indexing.html#returning-a-view-versus-a-copy\n",
      "  sub_df[\"DEtechnicality\"] *= 5\n"
     ]
    },
    {
     "data": {
      "image/png": "[encoded data removed]",
      "text/plain": [
       "<Figure size 432x288 with 1 Axes>"
      ]
     },
     "metadata": {
      "needs_background": "light"
     },
     "output_type": "display_data"
    }
   ],
   "source": [
    "print(\"Technicality ...\")\n",
    "sub_df = df[[\"ENtechnicality\", \"DEtechnicality\"]]\n",
    "sub_df[\"ENtechnicality\"] *= 5\n",
    "sub_df[\"DEtechnicality\"] *= 5\n",
    "boxplot = sub_df[[\"ENtechnicality\", \"DEtechnicality\"]].boxplot()  "
   ]
  },
  {
   "cell_type": "code",
   "execution_count": 31,
   "metadata": {},
   "outputs": [
    {
     "name": "stdout",
     "output_type": "stream",
     "text": [
      "Ease of reading ...\n"
     ]
    },
    {
     "name": "stderr",
     "output_type": "stream",
     "text": [
      "<ipython-input-31-2ba6ddbfc704>:3: SettingWithCopyWarning: \n",
      "A value is trying to be set on a copy of a slice from a DataFrame.\n",
      "Try using .loc[row_indexer,col_indexer] = value instead\n",
      "\n",
      "See the caveats in the documentation: https://pandas.pydata.org/pandas-docs/stable/user_guide/indexing.html#returning-a-view-versus-a-copy\n",
      "  sub_df[\"ENreadability\"] *= 5\n",
      "<ipython-input-31-2ba6ddbfc704>:4: SettingWithCopyWarning: \n",
      "A value is trying to be set on a copy of a slice from a DataFrame.\n",
      "Try using .loc[row_indexer,col_indexer] = value instead\n",
      "\n",
      "See the caveats in the documentation: https://pandas.pydata.org/pandas-docs/stable/user_guide/indexing.html#returning-a-view-versus-a-copy\n",
      "  sub_df[\"DEreadability\"] *= 5\n"
     ]
    },
    {
     "data": {
      "image/png": "[encoded data removed]",
      "text/plain": [
       "<Figure size 432x288 with 1 Axes>"
      ]
     },
     "metadata": {
      "needs_background": "light"
     },
     "output_type": "display_data"
    }
   ],
   "source": [
    "print(\"Ease of reading ...\")\n",
    "sub_df = df[[\"ENreadability\", \"DEreadability\"]]\n",
    "sub_df[\"ENreadability\"] *= 5\n",
    "sub_df[\"DEreadability\"] *= 5\n",
    "boxplot = sub_df[[\"ENreadability\", \"DEreadability\"]].boxplot()  "
   ]
  },
  {
   "cell_type": "code",
   "execution_count": 32,
   "metadata": {},
   "outputs": [
    {
     "data": {
      "image/png": "[encoded data removed]",
      "text/plain": [
       "<Figure size 432x288 with 1 Axes>"
      ]
     },
     "metadata": {
      "needs_background": "light"
     },
     "output_type": "display_data"
    }
   ],
   "source": [
    "c = df[\"ENtechnicality\"]-df[\"DEtechnicality\"]\n",
    "ax= c.value_counts().sort_index(ascending=True).plot(kind='bar')\n",
    "\n",
    "ax.set_xlabel('English - German scores')\n",
    "ax.set_ylabel('Number of Documents')\n",
    "ax.set_title('Difference between english technicality score and german technicality score')\n",
    "plt.show()\n"
   ]
  },
  {
   "cell_type": "code",
   "execution_count": 33,
   "metadata": {},
   "outputs": [
    {
     "data": {
      "image/png": "[encoded data removed]",
      "text/plain": [
       "<Figure size 432x288 with 1 Axes>"
      ]
     },
     "metadata": {
      "needs_background": "light"
     },
     "output_type": "display_data"
    }
   ],
   "source": [
    "c = df[\"ENreadability\"]-df[\"DEreadability\"]\n",
    "ax= c.value_counts().sort_index(ascending=True).plot(kind='bar')\n",
    "\n",
    "ax.set_xlabel('English - German scores')\n",
    "ax.set_ylabel('Number of Documents')\n",
    "ax.set_title('Difference between english readability score and german readability score')\n",
    "plt.show()"
   ]
  },
  {
   "cell_type": "code",
   "execution_count": null,
   "metadata": {},
   "outputs": [],
   "source": []
  },
  {
   "cell_type": "code",
   "execution_count": null,
   "metadata": {},
   "outputs": [],
   "source": []
  }
 ],
 "metadata": {
  "kernelspec": {
   "display_name": "Python 3",
   "language": "python",
   "name": "python3"
  },
  "language_info": {
   "codemirror_mode": {
    "name": "ipython",
    "version": 3
   },
   "file_extension": ".py",
   "mimetype": "text/x-python",
   "name": "python",
   "nbconvert_exporter": "python",
   "pygments_lexer": "ipython3",
   "version": "3.8.5"
  }
 },
 "nbformat": 4,
 "nbformat_minor": 4
}
